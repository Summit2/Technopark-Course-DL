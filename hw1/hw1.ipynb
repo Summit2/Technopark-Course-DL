{
 "cells": [
  {
   "cell_type": "markdown",
   "id": "4ba83be2",
   "metadata": {},
   "source": [
    "# Multilayer perceptron"
   ]
  },
  {
   "cell_type": "code",
   "execution_count": 1,
   "id": "8cc148dc-d83d-4c32-bbb0-3ffd82ba4e98",
   "metadata": {},
   "outputs": [],
   "source": [
    "import numpy as np\n",
    "import pandas as pd\n",
    "import matplotlib.pyplot as plt\n",
    "\n",
    "from sklearn.linear_model import LinearRegression\n",
    "from sklearn.model_selection import train_test_split\n",
    "from sklearn.metrics import r2_score\n",
    "from sklearn.preprocessing import MinMaxScaler\n",
    "\n",
    "%matplotlib inline"
   ]
  },
  {
   "cell_type": "markdown",
   "id": "e3a06e1e-3bc0-4667-84f3-7e86698c3737",
   "metadata": {},
   "source": [
    "### Загружаем выборку Diamonds"
   ]
  },
  {
   "cell_type": "markdown",
   "id": "c731a143-3dc9-43e7-96f5-b1eff9093345",
   "metadata": {},
   "source": [
    "1. PRICE: price in US dollars (326-18,823)\n",
    "2. CARAT: weight of the diamond (0.2--5.01)\n",
    "3. CUT: quality of the cut (Fair, Good, Very Good, Premium, Ideal)\n",
    "4. COLOR: diamond colour, from J (worst) to D (best)\n",
    "5. CLARITY: a measurement of how clear the diamond is (I1 (worst), SI2, SI1, VS2, VS1, VVS2, VVS1, IF (best))\n",
    "6. X: length in mm (0--10.74)\n",
    "7. Y: width in mm (0--58.9)\n",
    "8. Z: depth in mm (0--31.8)\n",
    "9. DEPTH: total depth percentage = z / mean(x, y) = 2 * z / (x + y) (43--79)\n",
    "10. TABLE: width of top of diamond relative to widest point (43--95)"
   ]
  },
  {
   "cell_type": "code",
   "execution_count": 2,
   "id": "0f24cf86-653a-422b-9df1-8029fdccf153",
   "metadata": {},
   "outputs": [],
   "source": [
    "diamonds_df = pd.read_csv('diamonds.csv')"
   ]
  },
  {
   "cell_type": "code",
   "execution_count": 3,
   "id": "70d9ccfe-e1cf-4c90-a5ab-40ae0852f1ce",
   "metadata": {},
   "outputs": [
    {
     "data": {
      "text/html": [
       "<div>\n",
       "<style scoped>\n",
       "    .dataframe tbody tr th:only-of-type {\n",
       "        vertical-align: middle;\n",
       "    }\n",
       "\n",
       "    .dataframe tbody tr th {\n",
       "        vertical-align: top;\n",
       "    }\n",
       "\n",
       "    .dataframe thead th {\n",
       "        text-align: right;\n",
       "    }\n",
       "</style>\n",
       "<table border=\"1\" class=\"dataframe\">\n",
       "  <thead>\n",
       "    <tr style=\"text-align: right;\">\n",
       "      <th></th>\n",
       "      <th>Unnamed: 0</th>\n",
       "      <th>carat</th>\n",
       "      <th>cut</th>\n",
       "      <th>color</th>\n",
       "      <th>clarity</th>\n",
       "      <th>depth</th>\n",
       "      <th>table</th>\n",
       "      <th>price</th>\n",
       "      <th>x</th>\n",
       "      <th>y</th>\n",
       "      <th>z</th>\n",
       "    </tr>\n",
       "  </thead>\n",
       "  <tbody>\n",
       "    <tr>\n",
       "      <th>0</th>\n",
       "      <td>1</td>\n",
       "      <td>0.23</td>\n",
       "      <td>Ideal</td>\n",
       "      <td>E</td>\n",
       "      <td>SI2</td>\n",
       "      <td>61.5</td>\n",
       "      <td>55.0</td>\n",
       "      <td>326</td>\n",
       "      <td>3.95</td>\n",
       "      <td>3.98</td>\n",
       "      <td>2.43</td>\n",
       "    </tr>\n",
       "    <tr>\n",
       "      <th>1</th>\n",
       "      <td>2</td>\n",
       "      <td>0.21</td>\n",
       "      <td>Premium</td>\n",
       "      <td>E</td>\n",
       "      <td>SI1</td>\n",
       "      <td>59.8</td>\n",
       "      <td>61.0</td>\n",
       "      <td>326</td>\n",
       "      <td>3.89</td>\n",
       "      <td>3.84</td>\n",
       "      <td>2.31</td>\n",
       "    </tr>\n",
       "    <tr>\n",
       "      <th>2</th>\n",
       "      <td>3</td>\n",
       "      <td>0.23</td>\n",
       "      <td>Good</td>\n",
       "      <td>E</td>\n",
       "      <td>VS1</td>\n",
       "      <td>56.9</td>\n",
       "      <td>65.0</td>\n",
       "      <td>327</td>\n",
       "      <td>4.05</td>\n",
       "      <td>4.07</td>\n",
       "      <td>2.31</td>\n",
       "    </tr>\n",
       "    <tr>\n",
       "      <th>3</th>\n",
       "      <td>4</td>\n",
       "      <td>0.29</td>\n",
       "      <td>Premium</td>\n",
       "      <td>I</td>\n",
       "      <td>VS2</td>\n",
       "      <td>62.4</td>\n",
       "      <td>58.0</td>\n",
       "      <td>334</td>\n",
       "      <td>4.20</td>\n",
       "      <td>4.23</td>\n",
       "      <td>2.63</td>\n",
       "    </tr>\n",
       "    <tr>\n",
       "      <th>4</th>\n",
       "      <td>5</td>\n",
       "      <td>0.31</td>\n",
       "      <td>Good</td>\n",
       "      <td>J</td>\n",
       "      <td>SI2</td>\n",
       "      <td>63.3</td>\n",
       "      <td>58.0</td>\n",
       "      <td>335</td>\n",
       "      <td>4.34</td>\n",
       "      <td>4.35</td>\n",
       "      <td>2.75</td>\n",
       "    </tr>\n",
       "  </tbody>\n",
       "</table>\n",
       "</div>"
      ],
      "text/plain": [
       "   Unnamed: 0  carat      cut color clarity  depth  table  price     x     y  \\\n",
       "0           1   0.23    Ideal     E     SI2   61.5   55.0    326  3.95  3.98   \n",
       "1           2   0.21  Premium     E     SI1   59.8   61.0    326  3.89  3.84   \n",
       "2           3   0.23     Good     E     VS1   56.9   65.0    327  4.05  4.07   \n",
       "3           4   0.29  Premium     I     VS2   62.4   58.0    334  4.20  4.23   \n",
       "4           5   0.31     Good     J     SI2   63.3   58.0    335  4.34  4.35   \n",
       "\n",
       "      z  \n",
       "0  2.43  \n",
       "1  2.31  \n",
       "2  2.31  \n",
       "3  2.63  \n",
       "4  2.75  "
      ]
     },
     "execution_count": 3,
     "metadata": {},
     "output_type": "execute_result"
    }
   ],
   "source": [
    "diamonds_df.head()"
   ]
  },
  {
   "cell_type": "code",
   "execution_count": 4,
   "id": "fad21c95-f542-44ec-8f06-8f57fd42ddef",
   "metadata": {},
   "outputs": [
    {
     "data": {
      "image/png": "[encoded data removed]",
      "text/plain": [
       "<Figure size 640x480 with 1 Axes>"
      ]
     },
     "metadata": {},
     "output_type": "display_data"
    }
   ],
   "source": [
    "plt.hist(diamonds_df['price'], bins=100)\n",
    "plt.grid();"
   ]
  },
  {
   "cell_type": "markdown",
   "id": "17ac44bb-86c7-424a-8b9b-0a21bf490683",
   "metadata": {},
   "source": [
    "# Подготовка данных"
   ]
  },
  {
   "cell_type": "code",
   "execution_count": 5,
   "id": "e19945ea-cecf-481e-a28b-3f9c11001918",
   "metadata": {},
   "outputs": [],
   "source": [
    "features = ['carat', 'cut', 'color', 'clarity', 'depth', 'table', 'x', 'y', 'z']\n",
    "target = ['price']"
   ]
  },
  {
   "cell_type": "code",
   "execution_count": 6,
   "id": "fbc43eb0-e77f-4765-8b0e-b9052c093855",
   "metadata": {},
   "outputs": [],
   "source": [
    "cut_transform = {'Fair': 0, 'Good': 1, 'Very Good': 2, 'Premium': 3, 'Ideal': 4}\n",
    "clarity_transform = {'I1': 0, 'SI2': 1, 'SI1': 2, 'VS2': 3, 'VS1': 4, 'VVS2': 5, 'VVS1': 6, 'IF': 7}\n",
    "color_transorm = {'D': 0, 'E': 1, 'F': 2, 'G': 3, 'H': 4, 'I': 5, 'J': 6}"
   ]
  },
  {
   "cell_type": "code",
   "execution_count": 7,
   "id": "6f82b34f-9ffc-478f-a103-b2cbbca49a94",
   "metadata": {},
   "outputs": [],
   "source": [
    "diamonds_df['cut'] = diamonds_df['cut'].apply(lambda x: cut_transform.get(x))\n",
    "diamonds_df['color'] = diamonds_df['color'].apply(lambda x: color_transorm.get(x))\n",
    "diamonds_df['clarity'] = diamonds_df['clarity'].apply(lambda x: clarity_transform.get(x))"
   ]
  },
  {
   "cell_type": "code",
   "execution_count": 8,
   "id": "8e5fa82b-92ed-4e79-adf2-422204b45e82",
   "metadata": {},
   "outputs": [],
   "source": [
    "X = diamonds_df[features].copy().values\n",
    "y = diamonds_df[target].values"
   ]
  },
  {
   "cell_type": "code",
   "execution_count": 9,
   "id": "baafcd96-b32e-469e-b354-fa0aba09db8f",
   "metadata": {},
   "outputs": [],
   "source": [
    "scaler = MinMaxScaler()\n",
    "X = scaler.fit_transform(X)"
   ]
  },
  {
   "cell_type": "code",
   "execution_count": 10,
   "id": "64c11d68-dc5c-4753-9cc4-3cc4e136f3cb",
   "metadata": {},
   "outputs": [],
   "source": [
    "X_train, X_test, y_train, y_test = train_test_split(X, y, random_state=47, test_size=0.3)"
   ]
  },
  {
   "cell_type": "markdown",
   "id": "3b743ed1-d0cf-485d-b8f2-8c71fc174e8b",
   "metadata": {},
   "source": [
    "# Обучаем модель линейной регрессии"
   ]
  },
  {
   "cell_type": "code",
   "execution_count": 11,
   "id": "0068e36f-040e-4aa3-bb06-88aa95051478",
   "metadata": {},
   "outputs": [],
   "source": [
    "reg = LinearRegression().fit(X_train, y_train)"
   ]
  },
  {
   "cell_type": "code",
   "execution_count": 12,
   "id": "f968e336-4049-41b2-81d1-4c24f0969bbb",
   "metadata": {},
   "outputs": [],
   "source": [
    "y_pred = reg.predict(X_test)"
   ]
  },
  {
   "cell_type": "code",
   "execution_count": 13,
   "id": "0952990a-b3d6-4da4-9cc6-1ab3a7a25ac7",
   "metadata": {},
   "outputs": [
    {
     "data": {
      "text/plain": [
       "0.8977468673125701"
      ]
     },
     "execution_count": 13,
     "metadata": {},
     "output_type": "execute_result"
    }
   ],
   "source": [
    "score = r2_score(y_pred, y_test)\n",
    "score"
   ]
  },
  {
   "cell_type": "code",
   "execution_count": 14,
   "id": "f89c3bbd-0a3a-48ac-b1ab-b75dc0c5bcce",
   "metadata": {},
   "outputs": [
    {
     "data": {
      "image/png": "[encoded data removed]",
      "text/plain": [
       "<Figure size 640x480 with 1 Axes>"
      ]
     },
     "metadata": {},
     "output_type": "display_data"
    }
   ],
   "source": [
    "plt.title(f'R2: {str(score)[:5]}')\n",
    "plt.hist(y_pred.reshape(1, -1)[0], bins=100, label='PREDICTION')\n",
    "plt.hist(y_test.reshape(1, -1)[0], bins=100, label='GT')\n",
    "plt.legend()\n",
    "plt.grid();"
   ]
  },
  {
   "cell_type": "markdown",
   "id": "ec76ab2a",
   "metadata": {},
   "source": [
    "### 1.1 Градиентный спуск для линейной регрессии"
   ]
  },
  {
   "cell_type": "code",
   "execution_count": 15,
   "id": "3ab56ad2",
   "metadata": {},
   "outputs": [],
   "source": [
    "class MyLinearRegression():\n",
    "\n",
    "\n",
    "\n",
    "    def __init__(self,learning_rate = 0.1 ):\n",
    "        \n",
    "        self.mu,self.sigma = 0, 0.1\n",
    "        \n",
    "        self.weights = np.random.normal(self.mu,self.sigma,(X.shape[1]+1,1)) #W+bias\n",
    "        self.bias= None  #will be added after model.fit complete\n",
    "\n",
    "        self.lr = learning_rate\n",
    "        self.epochs = 10000\n",
    "\n",
    "    def exact_solution(self, X ,y ):\n",
    "        return np.linalg.inv(X.T @ X) @ X.T @ y\n",
    "    \n",
    "    def grad(self, X,y):\n",
    "        \n",
    "        error = X@self.weights-y\n",
    "        return 2 * X.T@(error) / (X.shape[0]), np.mean(error)\n",
    "    \n",
    "\n",
    "\n",
    "    def fit(self, X,y):\n",
    "        \n",
    "        x0 = np.ones(shape = (X.shape[0],1)) #this is bias\n",
    "        X = np.concatenate([X.copy(), x0],axis =1) # add to arr\n",
    "        \n",
    "        error = 1 # random digit > than 0\n",
    "        counter = 0 #if we can't make it under number of epochs\n",
    "        while (abs(error)>0.001):\n",
    "            grad_i, error = self.grad(X,y)\n",
    "            self.weights  -= self.lr * grad_i\n",
    "            counter+=1\n",
    "            if counter>=self.epochs:\n",
    "                break\n",
    "        print(f\"Модель сошлась за {counter} эпох\")\n",
    "        \n",
    "        self.weights = self.weights[:-1]\n",
    "        self.bias = self.weights[-1]\n",
    "\n",
    "    def predict(self,X):\n",
    "        return X@self.weights + self.bias\n",
    "\n",
    "    \n",
    "\n"
   ]
  },
  {
   "cell_type": "code",
   "execution_count": 16,
   "id": "c383b0f4",
   "metadata": {},
   "outputs": [
    {
     "name": "stdout",
     "output_type": "stream",
     "text": [
      "Модель сошлась за 2241 эпох\n"
     ]
    }
   ],
   "source": [
    "model_custom = MyLinearRegression()\n",
    "\n",
    "model_custom.fit(X_train, y_train)\n",
    "\n",
    "\n"
   ]
  },
  {
   "cell_type": "code",
   "execution_count": 17,
   "id": "cff69317",
   "metadata": {},
   "outputs": [],
   "source": [
    "y_pred_custom = model_custom.predict(X_test)"
   ]
  },
  {
   "cell_type": "code",
   "execution_count": 18,
   "id": "56a66d2a",
   "metadata": {},
   "outputs": [
    {
     "data": {
      "text/plain": [
       "-7.276804028031888"
      ]
     },
     "execution_count": 18,
     "metadata": {},
     "output_type": "execute_result"
    }
   ],
   "source": [
    "score_reg = r2_score(y_pred_custom, y_test)\n",
    "score_reg"
   ]
  },
  {
   "cell_type": "code",
   "execution_count": 19,
   "id": "136b78ca",
   "metadata": {},
   "outputs": [
    {
     "data": {
      "image/png": "[encoded data removed]",
      "text/plain": [
       "<Figure size 640x480 with 1 Axes>"
      ]
     },
     "metadata": {},
     "output_type": "display_data"
    }
   ],
   "source": [
    "plt.title(f'R2 for Custom Linear Regression: {str(score)[:5]}')\n",
    "plt.hist(y_pred_custom.reshape(1, -1)[0], bins=100, label='PREDICTION')\n",
    "plt.hist(y_test.reshape(1, -1)[0], bins=100, label='GT')\n",
    "plt.legend()\n",
    "plt.grid();"
   ]
  },
  {
   "cell_type": "markdown",
   "id": "9faced1f",
   "metadata": {},
   "source": [
    "Вывод: линейная регрессия работает с ~ той же точностью, что и в sklearn"
   ]
  },
  {
   "cell_type": "markdown",
   "id": "7886f8b7-ba2e-4fde-8b91-f815ea961fe5",
   "metadata": {},
   "source": [
    "### 1.2 Модель MLP для задачи регрессии"
   ]
  },
  {
   "cell_type": "code",
   "execution_count": 20,
   "id": "a32f8cb5",
   "metadata": {},
   "outputs": [],
   "source": [
    "from tqdm import tqdm"
   ]
  },
  {
   "cell_type": "code",
   "execution_count": 21,
   "id": "d6660281",
   "metadata": {},
   "outputs": [],
   "source": [
    "class RELU:\n",
    "    def __init__(self):\n",
    "        pass\n",
    "\n",
    "    def forward(self, X):\n",
    "        \n",
    "        self.X = X\n",
    "        return np.maximum(X, 0)\n",
    "\n",
    "    def backward(self, dLdt):\n",
    "        \n",
    "        return (self.X > 0) * dLdt\n",
    "\n",
    "    def step(self, learning_rate):\n",
    "        pass"
   ]
  },
  {
   "cell_type": "code",
   "execution_count": 22,
   "id": "42f8fab9",
   "metadata": {},
   "outputs": [],
   "source": [
    "class Linear:\n",
    "    def __init__(self, weights_in, weights_out):\n",
    "        self.W = np.random.randn(weights_in, weights_out)*0.001\n",
    "        self.bias = np.zeros(weights_out)\n",
    "        \n",
    "    def forward(self, X):\n",
    "        self.X = X\n",
    "        return self.X@self.W + self.bias\n",
    "\n",
    "    def backward(self, dLdt):\n",
    "        self.dLdW = self.X.T @ dLdt\n",
    "        self.dLdb = dLdt.sum(0)\n",
    "        self.dLdx = dLdt @ self.W.T\n",
    "        return self.dLdx\n",
    "    \n",
    "    def step(self, lr):\n",
    "        self.W -= lr * self.dLdW\n",
    "        self.bias -= lr * self.dLdb\n"
   ]
  },
  {
   "cell_type": "code",
   "execution_count": 23,
   "id": "f5571bbb",
   "metadata": {},
   "outputs": [],
   "source": [
    "class MSE_loss:\n",
    "    def __init__(self) -> None:\n",
    "        pass\n",
    "\n",
    "    def forward(self, y_true, y_pred):\n",
    "        self.y_true = y_true\n",
    "        self.y_pred = y_pred\n",
    "        # print(\"self.y_pred,\", y_pred.shape)\n",
    "        self.loss =  np.mean((y_true - y_pred) ** 2) / ((self.y_pred).shape[0])\n",
    "\n",
    "        return self.loss\n",
    "    \n",
    "    def backward(self):\n",
    "        # print(\"self.y_true\",self.y_true.shape)\n",
    "        # print(\"self.y_pred\",self.y_pred.shape)\n",
    "        return -1 * (self.y_true - self.y_pred) / ((self.y_pred).shape[0])\n",
    "\n",
    "    "
   ]
  },
  {
   "cell_type": "code",
   "execution_count": 24,
   "id": "51b7ef93-763a-4617-98e4-c2c98e2a12a5",
   "metadata": {},
   "outputs": [],
   "source": [
    "class MLPRegressor:\n",
    "    def __init__(\n",
    "        self,\n",
    "        layers,\n",
    "        loss_func,\n",
    "        learning_rate=0.01,\n",
    "        max_iter=20,\n",
    "        \n",
    "        \n",
    "    ):\n",
    "        self.layers = layers\n",
    "        self.loss_func=  loss_func\n",
    "        \n",
    "        self.lr = learning_rate\n",
    "        self.max_iter = max_iter\n",
    "    \n",
    "    \n",
    "    def forward(self, X):\n",
    "    \n",
    "        y_pred = X\n",
    "        for i in range(len(self.layers)):\n",
    "            y_pred = self.layers[i].forward(y_pred)\n",
    "       \n",
    "        \n",
    "        return y_pred\n",
    "        \n",
    "\n",
    "    \n",
    "    def backward(self, dLdx):\n",
    "         for i in range(len(self.layers))[::-1]:\n",
    "            dLdx = self.layers[i].backward(dLdx)\n",
    "\n",
    "    def step(self):\n",
    "        for i in range(len(self.layers)):\n",
    "            self.layers[i].step(self.lr)\n",
    "\n",
    "\n",
    "    def train(self, X, y_true):\n",
    "        \n",
    "        \n",
    "        for epoch in tqdm(range(self.max_iter)):\n",
    "            \n",
    "            y_pred = self.forward(X) #пропустили значения forward pass\n",
    "            # print('y_pred', y_pred.shape)\n",
    "            self.loss = self.loss_func.forward(y_true, y_pred) #вычислили ошибку\n",
    "            # print('self.loss', (self.loss))\n",
    "            dLdx = self.loss_func.backward() #вычислили градиент ошибки\n",
    "            # print('dLdx', dLdx,dLdx.shape)\n",
    "            self.backward(dLdx) #вычисляем градиенты, прокидывая градиент ошибки (backward pass)\n",
    "            self.step()\n",
    "\n",
    "        print(f\"loss on last epoch = {self.loss}\")\n",
    "\n",
    "\n",
    "\n"
   ]
  },
  {
   "cell_type": "code",
   "execution_count": 25,
   "id": "c047eb31",
   "metadata": {},
   "outputs": [
    {
     "name": "stderr",
     "output_type": "stream",
     "text": [
      "100%|██████████| 5000/5000 [01:36<00:00, 51.86it/s]"
     ]
    },
    {
     "name": "stdout",
     "output_type": "stream",
     "text": [
      "loss on last epoch = 421.7232495135422\n"
     ]
    },
    {
     "name": "stderr",
     "output_type": "stream",
     "text": [
      "\n"
     ]
    }
   ],
   "source": [
    "layers =[Linear(9,20),  RELU(), \n",
    "        Linear(20,1)]\n",
    "model = MLPRegressor(layers=layers, loss_func=MSE_loss(),max_iter=5000, learning_rate=5e-2)\n",
    "\n",
    "\n",
    "model.train(X_train, y_train)\n"
   ]
  },
  {
   "cell_type": "markdown",
   "id": "2afb2d95-c521-406d-b601-0baf84cb4a54",
   "metadata": {},
   "source": [
    "# Проверяем модель MLP на выборке Diamonds"
   ]
  },
  {
   "cell_type": "code",
   "execution_count": 28,
   "id": "5d96f9c4",
   "metadata": {},
   "outputs": [],
   "source": [
    "y_pred_mlp = model.forward(X_test)"
   ]
  },
  {
   "cell_type": "code",
   "execution_count": 29,
   "id": "86139418",
   "metadata": {},
   "outputs": [
    {
     "data": {
      "text/plain": [
       "-0.000211771990885401"
      ]
     },
     "execution_count": 29,
     "metadata": {},
     "output_type": "execute_result"
    }
   ],
   "source": [
    "r2_score(y_test, y_pred_mlp)"
   ]
  },
  {
   "cell_type": "code",
   "execution_count": 30,
   "id": "0c9fba66",
   "metadata": {},
   "outputs": [
    {
     "data": {
      "text/plain": [
       "0.0"
      ]
     },
     "execution_count": 30,
     "metadata": {},
     "output_type": "execute_result"
    }
   ],
   "source": [
    "r2_score(y_train, model.forward(X_train))"
   ]
  },
  {
   "cell_type": "markdown",
   "id": "badf5f69",
   "metadata": {},
   "source": [
    "Вывод можно сделать такой: наша модель MLP близка к константному предсказателю значений. При этом MLP реализован, и даже отрабатывает, и лосс сходится. Наверное,ситуацию может помочь улучшить регуляризация или особая инициализация весов"
   ]
  }
 ],
 "metadata": {
  "kernelspec": {
   "display_name": "Python 3",
   "language": "python",
   "name": "python3"
  },
  "language_info": {
   "codemirror_mode": {
    "name": "ipython",
    "version": 3
   },
   "file_extension": ".py",
   "mimetype": "text/x-python",
   "name": "python",
   "nbconvert_exporter": "python",
   "pygments_lexer": "ipython3",
   "version": "3.10.11"
  }
 },
 "nbformat": 4,
 "nbformat_minor": 5
}
