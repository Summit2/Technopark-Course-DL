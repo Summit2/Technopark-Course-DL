{
 "cells": [
  {
   "cell_type": "markdown",
   "metadata": {},
   "source": [
    "### Написание и обучение классификатора на основе CNN"
   ]
  },
  {
   "cell_type": "code",
   "execution_count": 2,
   "metadata": {
    "execution": {
     "iopub.execute_input": "2024-10-03T13:56:07.551358Z",
     "iopub.status.busy": "2024-10-03T13:56:07.550352Z",
     "iopub.status.idle": "2024-10-03T13:56:12.043514Z",
     "shell.execute_reply": "2024-10-03T13:56:12.042443Z",
     "shell.execute_reply.started": "2024-10-03T13:56:07.551304Z"
    },
    "trusted": true
   },
   "outputs": [],
   "source": [
    "import numpy as np\n",
    "import torch\n",
    "from torch.utils.data import Dataset\n",
    "from torch.utils.data import DataLoader\n",
    "import torchvision.transforms \n",
    "import skimage\n",
    "import matplotlib.pyplot as plt\n",
    "from tqdm import tqdm\n",
    "import os\n",
    "from PIL import Image\n",
    "from torchvision import transforms\n",
    "from torch.optim import lr_scheduler\n",
    "import matplotlib.pyplot as plt\n",
    "from IPython.display import clear_output\n",
    "from torchvision.datasets import ImageFolder\n",
    "from torch.utils.data import random_split\n",
    "import gc\n",
    "\n",
    "%matplotlib inline"
   ]
  },
  {
   "cell_type": "code",
   "execution_count": 3,
   "metadata": {
    "execution": {
     "iopub.execute_input": "2024-10-03T13:56:12.046869Z",
     "iopub.status.busy": "2024-10-03T13:56:12.045982Z",
     "iopub.status.idle": "2024-10-03T13:56:12.051020Z",
     "shell.execute_reply": "2024-10-03T13:56:12.050048Z",
     "shell.execute_reply.started": "2024-10-03T13:56:12.046814Z"
    },
    "trusted": true
   },
   "outputs": [],
   "source": [
    "BASE_DIR = \"/kaggle/input/indoor-outdoor-classification\""
   ]
  },
  {
   "cell_type": "code",
   "execution_count": 4,
   "metadata": {
    "execution": {
     "iopub.execute_input": "2024-10-03T13:56:12.052484Z",
     "iopub.status.busy": "2024-10-03T13:56:12.052162Z",
     "iopub.status.idle": "2024-10-03T13:56:12.098192Z",
     "shell.execute_reply": "2024-10-03T13:56:12.097038Z",
     "shell.execute_reply.started": "2024-10-03T13:56:12.052452Z"
    },
    "trusted": true
   },
   "outputs": [
    {
     "data": {
      "text/plain": [
       "'cuda'"
      ]
     },
     "execution_count": 4,
     "metadata": {},
     "output_type": "execute_result"
    }
   ],
   "source": [
    "device = 'cuda' if torch.cuda.is_available() else 'cpu'\n",
    "device"
   ]
  },
  {
   "cell_type": "code",
   "execution_count": 9,
   "metadata": {
    "execution": {
     "iopub.execute_input": "2024-10-03T13:56:17.891013Z",
     "iopub.status.busy": "2024-10-03T13:56:17.890679Z",
     "iopub.status.idle": "2024-10-03T13:56:17.895140Z",
     "shell.execute_reply": "2024-10-03T13:56:17.893992Z",
     "shell.execute_reply.started": "2024-10-03T13:56:17.890978Z"
    },
    "trusted": true
   },
   "outputs": [],
   "source": [
    "labels_map = {\n",
    "    0 : \"indoor\",\n",
    "    1 : \"outdoor\"\n",
    "    \n",
    "}"
   ]
  },
  {
   "cell_type": "markdown",
   "metadata": {},
   "source": [
    "Трансформации для картинок"
   ]
  },
  {
   "cell_type": "code",
   "execution_count": 14,
   "metadata": {
    "execution": {
     "iopub.execute_input": "2024-10-03T13:56:17.938272Z",
     "iopub.status.busy": "2024-10-03T13:56:17.937964Z",
     "iopub.status.idle": "2024-10-03T13:56:17.946764Z",
     "shell.execute_reply": "2024-10-03T13:56:17.945778Z",
     "shell.execute_reply.started": "2024-10-03T13:56:17.938239Z"
    },
    "trusted": true
   },
   "outputs": [],
   "source": [
    "\n",
    "transformations = transforms.Compose([\n",
    "    transforms.ToTensor(), \n",
    "    transforms.Resize((128, 128)),  \n",
    "    transforms.Normalize(mean=[0.5, 0.5, 0.5], \n",
    "                         std=[0.5, 0.5, 0.5])  \n",
    "    \n",
    "#     transforms.RandomHorizontalFlip(p=0.5),\n",
    "   \n",
    "])\n",
    "\n",
    "\n"
   ]
  },
  {
   "cell_type": "markdown",
   "metadata": {},
   "source": [
    "С помощью ImageFolder создаем датасеты и даталоадеры"
   ]
  },
  {
   "cell_type": "code",
   "execution_count": 15,
   "metadata": {
    "execution": {
     "iopub.execute_input": "2024-10-03T13:56:17.951240Z",
     "iopub.status.busy": "2024-10-03T13:56:17.950414Z",
     "iopub.status.idle": "2024-10-03T14:03:03.156237Z",
     "shell.execute_reply": "2024-10-03T14:03:03.155400Z",
     "shell.execute_reply.started": "2024-10-03T13:56:17.951204Z"
    },
    "trusted": true
   },
   "outputs": [],
   "source": [
    "# dir_indoor = '/kaggle/input/indoor-outdoor-dz3-techno/indoor'\n",
    "# dir_outdoor = '/kaggle/input/indoor-outdoor-dz3-techno/outdoor'\n",
    "full_data = ImageFolder(BASE_DIR, transform=transformations)\n"
   ]
  },
  {
   "cell_type": "code",
   "execution_count": 16,
   "metadata": {
    "execution": {
     "iopub.execute_input": "2024-10-03T14:03:03.157827Z",
     "iopub.status.busy": "2024-10-03T14:03:03.157510Z",
     "iopub.status.idle": "2024-10-03T14:03:03.216801Z",
     "shell.execute_reply": "2024-10-03T14:03:03.215754Z",
     "shell.execute_reply.started": "2024-10-03T14:03:03.157794Z"
    },
    "trusted": true
   },
   "outputs": [],
   "source": [
    "train_size = int(0.2* len(full_data))\n",
    "val_size = int(0.05 * len(full_data))\n",
    "test_size = (len(full_data) - train_size - val_size)\n",
    "\n",
    "train_data, val_data, test_data = random_split(full_data, [train_size, val_size, test_size])\n",
    "\n",
    "train_loader = DataLoader(train_data, batch_size=128, shuffle=True)\n",
    "val_loader = DataLoader(val_data, batch_size=128, shuffle=False)\n",
    "test_loader = DataLoader(test_data, batch_size=128, shuffle=False)"
   ]
  },
  {
   "cell_type": "code",
   "execution_count": 17,
   "metadata": {
    "execution": {
     "iopub.execute_input": "2024-10-03T14:03:03.218590Z",
     "iopub.status.busy": "2024-10-03T14:03:03.218162Z",
     "iopub.status.idle": "2024-10-03T14:03:03.225513Z",
     "shell.execute_reply": "2024-10-03T14:03:03.224454Z",
     "shell.execute_reply.started": "2024-10-03T14:03:03.218527Z"
    },
    "trusted": true
   },
   "outputs": [
    {
     "data": {
      "text/plain": [
       "642"
      ]
     },
     "execution_count": 17,
     "metadata": {},
     "output_type": "execute_result"
    }
   ],
   "source": [
    "len(train_loader)"
   ]
  },
  {
   "cell_type": "markdown",
   "metadata": {},
   "source": [
    "Я взял модель VGG и воссоздал ее архитектуру. Однако, если обучать на данном датасете, уходит очень много времени, поэтому воспользовался более простыми решениями"
   ]
  },
  {
   "cell_type": "code",
   "execution_count": 19,
   "metadata": {
    "execution": {
     "iopub.execute_input": "2024-10-03T14:03:04.541633Z",
     "iopub.status.busy": "2024-10-03T14:03:04.541327Z",
     "iopub.status.idle": "2024-10-03T14:03:04.546163Z",
     "shell.execute_reply": "2024-10-03T14:03:04.545182Z",
     "shell.execute_reply.started": "2024-10-03T14:03:04.541600Z"
    },
    "trusted": true
   },
   "outputs": [],
   "source": [
    "import torch.nn as nn"
   ]
  },
  {
   "cell_type": "code",
   "execution_count": 20,
   "metadata": {
    "execution": {
     "iopub.execute_input": "2024-10-03T14:03:04.547925Z",
     "iopub.status.busy": "2024-10-03T14:03:04.547533Z",
     "iopub.status.idle": "2024-10-03T14:03:04.563957Z",
     "shell.execute_reply": "2024-10-03T14:03:04.563032Z",
     "shell.execute_reply.started": "2024-10-03T14:03:04.547876Z"
    },
    "trusted": true
   },
   "outputs": [],
   "source": [
    "\n",
    "class InOutVGGClassifier(nn.Module):\n",
    "    \n",
    "    def __init__(self):\n",
    "        super(InOutVGGClassifier,self).__init__()\n",
    "        self.block1 = nn.Sequential(\n",
    "            nn.Conv2d(in_channels=3, out_channels=64, kernel_size=3, stride=1),\n",
    "            nn.ReLU(),\n",
    "            nn.BatchNorm2d(64),\n",
    "            nn.Conv2d(in_channels=64, out_channels=64, kernel_size=3, stride=1),\n",
    "            nn.BatchNorm2d(64),\n",
    "            nn.ReLU(),\n",
    "            nn.MaxPool2d(kernel_size=2, stride=2),\n",
    "            nn.Dropout2d(p=0.4),\n",
    "        )\n",
    "        self.block2 = nn.Sequential(\n",
    "            nn.Conv2d(in_channels=64, out_channels=128, kernel_size=3, stride=1),\n",
    "            nn.ReLU(),\n",
    "            nn.BatchNorm2d(128),\n",
    "            nn.Conv2d(in_channels=128, out_channels=128, kernel_size=3, stride=1),\n",
    "            nn.BatchNorm2d(128),\n",
    "            nn.ReLU(),\n",
    "            nn.MaxPool2d(kernel_size=2, stride=2),\n",
    "            nn.Dropout2d(p=0.4),\n",
    "        )\n",
    "        self.block3 = nn.Sequential(\n",
    "            nn.Conv2d(in_channels=128, out_channels=256, kernel_size=3, stride=1),\n",
    "            nn.ReLU(),\n",
    "            nn.BatchNorm2d(256),\n",
    "            nn.Conv2d(in_channels=256, out_channels=256, kernel_size=3, stride=1),\n",
    "            nn.BatchNorm2d(256),\n",
    "            nn.ReLU(),\n",
    "            nn.MaxPool2d(kernel_size=2, stride=2),\n",
    "            nn.Dropout2d(p=0.4),\n",
    "        )\n",
    "        self.block4 = nn.Sequential(\n",
    "            nn.Conv2d(in_channels=256, out_channels=512, kernel_size=3, stride=1),\n",
    "            nn.BatchNorm2d(512),\n",
    "            nn.ReLU(),\n",
    "            nn.Conv2d(in_channels=512, out_channels=512, kernel_size=3, stride=1),\n",
    "            nn.ReLU(),\n",
    "            nn.BatchNorm2d(512),\n",
    "            nn.MaxPool2d(kernel_size=2, stride=2),\n",
    "            nn.Dropout2d(p=0.4),\n",
    "        )\n",
    "        self.fully_connected_layers = nn.Sequential(\n",
    "            nn.Linear(in_features=8192, out_features=4096), \n",
    "            nn.BatchNorm1d(4096),\n",
    "            nn.ReLU(),\n",
    "            nn.Dropout(p = 0.2),\n",
    "            nn.Linear(in_features=4096, out_features=4096), \n",
    "            nn.BatchNorm1d(4096),\n",
    "            nn.ReLU(),\n",
    "            nn.Dropout(p = 0.2),\n",
    "            nn.Linear(in_features=4096, out_features = 2)\n",
    "        )\n",
    "        \n",
    "    def forward(self, X):\n",
    "        \n",
    "        conv_layers_output = self.block4(self.block3(self.block2(self.block1(X))))\n",
    "        X_flatten = conv_layers_output.view(conv_layers_output.shape[0], -1) \n",
    "        \n",
    "        result = self.fully_connected_layers(X_flatten)\n",
    "        return result\n"
   ]
  },
  {
   "cell_type": "markdown",
   "metadata": {},
   "source": [
    "Более легковесная модель. В ней есть батч-нормализация, которая немного улучшает качество модели.  \n",
    "Также были попытки подключить дропаут, но показалось, что это не дает прироста в качестве"
   ]
  },
  {
   "cell_type": "code",
   "execution_count": 22,
   "metadata": {
    "execution": {
     "iopub.execute_input": "2024-10-03T14:03:04.578870Z",
     "iopub.status.busy": "2024-10-03T14:03:04.578508Z",
     "iopub.status.idle": "2024-10-03T14:03:04.592312Z",
     "shell.execute_reply": "2024-10-03T14:03:04.591578Z",
     "shell.execute_reply.started": "2024-10-03T14:03:04.578834Z"
    },
    "trusted": true
   },
   "outputs": [],
   "source": [
    "class SmallInOutClassifier(nn.Module):\n",
    "    def __init__(self):\n",
    "        super(SmallInOutClassifier, self).__init__()\n",
    "        self.conv_layers = nn.Sequential(\n",
    "            nn.Conv2d(3, 32, kernel_size=3, stride=1, padding=1),\n",
    "#             nn.Dropout2d(p = 0.2),\n",
    "            nn.ReLU(),\n",
    "            nn.BatchNorm2d(32),\n",
    "            nn.MaxPool2d(kernel_size=2, stride=2),\n",
    "            \n",
    "            nn.Conv2d(32, 64, kernel_size=3, stride=1, padding=1),\n",
    "#             nn.Dropout2d(p = 0.2),\n",
    "            nn.ReLU(),\n",
    "            nn.BatchNorm2d(64),\n",
    "            nn.MaxPool2d(kernel_size=2, stride=2),\n",
    "            \n",
    "            nn.Conv2d(64, 128, kernel_size=3, stride=1, padding=1),\n",
    "#             nn.Dropout2d(p = 0.2),\n",
    "            nn.ReLU(),\n",
    "            nn.BatchNorm2d(128),\n",
    "            nn.MaxPool2d(kernel_size=2, stride=2),\n",
    "            \n",
    "            nn.Conv2d(128, 256, kernel_size=3, stride=1, padding=1),\n",
    "#             nn.Dropout2d(p = 0.2),\n",
    "            nn.ReLU(),\n",
    "            nn.BatchNorm2d(256),\n",
    "            nn.MaxPool2d(kernel_size=2, stride=2),\n",
    "        )\n",
    "        \n",
    "        self.fc_layers = nn.Sequential(\n",
    "            nn.Linear(16384, 512),\n",
    "            nn.ReLU(),\n",
    "            nn.Dropout(0.5),\n",
    "          \n",
    "            nn.Linear(512, 2),\n",
    "            \n",
    "        )\n",
    "    \n",
    "    def forward(self, x):\n",
    "        x = self.conv_layers(x)\n",
    "#         print(x.size)\n",
    "        x = x.view(x.size(0), -1)\n",
    "        x = self.fc_layers(x)\n",
    "        return x"
   ]
  },
  {
   "cell_type": "markdown",
   "metadata": {},
   "source": [
    "Функции для обучения и валидации модели"
   ]
  },
  {
   "cell_type": "code",
   "execution_count": 23,
   "metadata": {
    "execution": {
     "iopub.execute_input": "2024-10-03T14:03:04.594087Z",
     "iopub.status.busy": "2024-10-03T14:03:04.593407Z",
     "iopub.status.idle": "2024-10-03T14:03:04.617886Z",
     "shell.execute_reply": "2024-10-03T14:03:04.617003Z",
     "shell.execute_reply.started": "2024-10-03T14:03:04.594039Z"
    },
    "trusted": true
   },
   "outputs": [],
   "source": [
    "def train(model, optimizer,  criterion, num_epochs, tr_dataloader, val_dataloader, scheduler = None):\n",
    "    \n",
    "    \n",
    "    loss_score = {'train' : [], 'val' : []}\n",
    "    accuracy_score = {'train' : [], 'val' : []}\n",
    "    \n",
    "    best_val_acc = 0\n",
    "    \n",
    "    for epoch in tqdm(range(num_epochs)):\n",
    "        \n",
    "        clear_output(wait=True)\n",
    "        \n",
    "        running_loss = 0.0\n",
    "        correct = 0\n",
    "        total = 0\n",
    "        \n",
    "        \n",
    "        \n",
    "        \n",
    "        model.train()\n",
    "        \n",
    "        for X_train, y_train in tr_dataloader:\n",
    "            X_train, y_train = X_train.to(device), y_train.to(device)\n",
    "            \n",
    "            optimizer.zero_grad() #обнулили градиенты \n",
    "            output = model(X_train) #сделали forward step    \n",
    "            \n",
    "                        \n",
    "#             print(output)\n",
    "            current_loss = criterion(output, y_train) #посчитали loss\n",
    "            \n",
    "            \n",
    "            current_loss.backward() #вычислили градиент\n",
    "            optimizer.step()\n",
    "            \n",
    "            #собираем метрики по батчу\n",
    "            y_pred = output.detach().argmax(dim=1)\n",
    "            \n",
    "            #accuracy  \n",
    "            correct +=(y_pred == y_train).type(torch.int).sum().item()\n",
    "            total += y_train.size(0)\n",
    "            \n",
    "            #loss\n",
    "            running_loss+=current_loss.item()\n",
    "            \n",
    "            \n",
    "            \n",
    "        avg_loss_train = running_loss/len(tr_dataloader)\n",
    "        avg_accuracy_train = correct/total\n",
    "        \n",
    "        \n",
    "        loss_score['train'].append(avg_loss_train)  \n",
    "        accuracy_score['train'].append(avg_accuracy_train)\n",
    "        \n",
    "        \n",
    "        \n",
    "       \n",
    "        \n",
    "        \n",
    "        \n",
    "        # metrics on validatation\n",
    "        loss_val, accuracy_val = evaluate_model(model, val_dataloader, criterion = criterion)\n",
    "        \n",
    "        loss_score['val'].append(loss_val)  \n",
    "        accuracy_score['val'].append(accuracy_val)\n",
    "        \n",
    "        \n",
    "        \n",
    "        #save model with best accuracy\n",
    "        if accuracy_val > best_val_acc:\n",
    "            checkpoint = {\n",
    "                \"model_state_dict\" : model.state_dict(),\n",
    "                \"optimizer_state_dict\" : optimizer.state_dict(),\n",
    "                'epoch' : epoch + 1,\n",
    "                'loss_val' : loss_val,\n",
    "                'accuracy_val': accuracy_val\n",
    "            }\n",
    "            torch.save(checkpoint, 'best_weights.pt')\n",
    "            best_val_acc = accuracy_val\n",
    "        \n",
    "        \n",
    "        if scheduler:\n",
    "            #reduce learning rate\n",
    "            scheduler.step()\n",
    "        \n",
    "        \n",
    "        #logging\n",
    "        \n",
    "        print(f\"{epoch+1} эпоха\\ntrain_loss = {avg_loss_train}, val_loss = {loss_val}\")\n",
    "        print(f\"train_accuracy = {avg_accuracy_train}, val_accuracy = {accuracy_val}\")\n",
    "        \n",
    "        #matplotlib\n",
    "        fig, axs = plt.subplots(1,2, figsize = (15,7))\n",
    "        \n",
    "        axs[0].plot(range(0,epoch+1),loss_score['train'], label = \"train\")\n",
    "        axs[0].plot(range(0,epoch+1),loss_score['val'], label = \"val\")\n",
    "        \n",
    "        axs[0].grid(True)\n",
    "        axs[0].legend()\n",
    "        axs[0].set_title(\"Loss\")\n",
    "        axs[0].set_xlabel('Epochs')\n",
    "        axs[0].set_ylabel('Loss score')\n",
    "        \n",
    "        axs[0].set_ylim(bottom = 0, top = 1)\n",
    "        \n",
    "        \n",
    "        axs[1].plot(range(0,epoch+1),accuracy_score['train'], label = \"train\")\n",
    "        axs[1].plot(range(0,epoch+1),accuracy_score['val'], label = \"val\")\n",
    "        \n",
    "        axs[1].grid(True)\n",
    "        axs[1].legend()\n",
    "        axs[1].set_title(\"Accuracy\")\n",
    "        axs[1].set_xlabel('Epochs')\n",
    "        axs[1].set_ylabel('Accuracy score')\n",
    "        \n",
    "        plt.show()\n",
    "        \n",
    "        \n",
    "\n",
    "        \n",
    "        \n",
    "    return loss_score, accuracy_score\n",
    "\n",
    "\n",
    "\n",
    "\n",
    "\n",
    "def evaluate_model(model, val_dataloader, criterion, verbose=False):\n",
    "    model.eval()\n",
    "    running_loss = 0.0\n",
    "    correct = 0\n",
    "    total = 0\n",
    "    \n",
    "    with torch.no_grad():\n",
    "            \n",
    "        \n",
    "        for X_val, y_val in tqdm(val_dataloader, disable = (not verbose)):\n",
    "            X_val, y_val = X_val.to(device), y_val.to(device)\n",
    "\n",
    "            output = model(X_val)\n",
    "            \n",
    "            current_loss = criterion(output, y_val) #посчитали loss\n",
    "\n",
    "\n",
    "            #собираем метрики по батчу\n",
    "            y_pred = output.argmax(dim=1)\n",
    "\n",
    "            right_preds = (y_pred == y_val).type(torch.int).sum().item()\n",
    "\n",
    "            #accuracy\n",
    "            correct += right_preds\n",
    "            total += y_val.size(0)\n",
    "\n",
    "            #loss \n",
    "            running_loss+=current_loss.item()\n",
    "            \n",
    "        \n",
    "   \n",
    "    loss_val = running_loss / len(val_dataloader)\n",
    "    accuracy_val = correct / total\n",
    "\n",
    "    return  loss_val, accuracy_val\n",
    "        \n",
    "        \n",
    "        \n",
    "        \n",
    "    "
   ]
  },
  {
   "cell_type": "code",
   "execution_count": 36,
   "metadata": {
    "execution": {
     "iopub.execute_input": "2024-10-03T08:24:10.907636Z",
     "iopub.status.busy": "2024-10-03T08:24:10.907338Z",
     "iopub.status.idle": "2024-10-03T08:24:11.122122Z",
     "shell.execute_reply": "2024-10-03T08:24:11.121093Z",
     "shell.execute_reply.started": "2024-10-03T08:24:10.907606Z"
    },
    "trusted": true
   },
   "outputs": [
    {
     "data": {
      "text/plain": [
       "7580"
      ]
     },
     "execution_count": 36,
     "metadata": {},
     "output_type": "execute_result"
    }
   ],
   "source": [
    "torch.cuda.empty_cache() \n",
    "gc.collect()"
   ]
  },
  {
   "cell_type": "markdown",
   "metadata": {},
   "source": [
    "Инициализация модели. Был добавлен шедулер, который должен понижать loss через заданное количество эпох, но он не использовался, так как не улучшал качество модели"
   ]
  },
  {
   "cell_type": "code",
   "execution_count": 32,
   "metadata": {
    "execution": {
     "iopub.execute_input": "2024-10-03T14:16:22.816189Z",
     "iopub.status.busy": "2024-10-03T14:16:22.815125Z",
     "iopub.status.idle": "2024-10-03T14:16:22.915421Z",
     "shell.execute_reply": "2024-10-03T14:16:22.914374Z",
     "shell.execute_reply.started": "2024-10-03T14:16:22.816134Z"
    },
    "trusted": true
   },
   "outputs": [],
   "source": [
    "model = SmallInOutClassifier()\n",
    "model.to(device)\n",
    "\n",
    "\n",
    "optimizer = torch.optim.AdamW(model.parameters(), lr = 3e-4)\n",
    "criterion = nn.CrossEntropyLoss()\n",
    "scheduler = None #lr_scheduler.StepLR(optimizer, step_size=5, gamma = 0.1)\n"
   ]
  },
  {
   "cell_type": "code",
   "execution_count": 37,
   "metadata": {
    "execution": {
     "iopub.execute_input": "2024-10-03T08:24:11.123722Z",
     "iopub.status.busy": "2024-10-03T08:24:11.123333Z",
     "iopub.status.idle": "2024-10-03T10:13:58.759824Z",
     "shell.execute_reply": "2024-10-03T10:13:58.758798Z",
     "shell.execute_reply.started": "2024-10-03T08:24:11.123669Z"
    },
    "trusted": true
   },
   "outputs": [
    {
     "name": "stdout",
     "output_type": "stream",
     "text": [
      "20 эпоха\n",
      "train_loss = 0.024471555130300186, val_loss = 0.5531122782585783\n",
      "train_accuracy = 0.9917056416252558, val_accuracy = 0.9067524115755627\n"
     ]
    },
    {
     "data": {
      "image/png": "[encoded data removed]",
      "text/plain": [
       "<Figure size 1500x700 with 2 Axes>"
      ]
     },
     "metadata": {},
     "output_type": "display_data"
    },
    {
     "name": "stderr",
     "output_type": "stream",
     "text": [
      "100%|██████████| 20/20 [1:49:47<00:00, 329.38s/it]\n"
     ]
    }
   ],
   "source": [
    "loss_score, accuracy_score = train(model, optimizer, criterion, num_epochs = 20, tr_dataloader = train_loader,\n",
    "      val_dataloader = val_loader, scheduler=scheduler)\n"
   ]
  },
  {
   "cell_type": "markdown",
   "metadata": {},
   "source": [
    "Модель очень быстро дала высокую точность >0.9\n",
    "Видно, что модель начала переобучаться, но мы смогли сохранить веса лучшей модели"
   ]
  },
  {
   "cell_type": "markdown",
   "metadata": {},
   "source": [
    "Загрузим веса модели с лучшей accuracy на валидации"
   ]
  },
  {
   "cell_type": "code",
   "execution_count": 33,
   "metadata": {
    "execution": {
     "iopub.execute_input": "2024-10-03T14:16:27.549736Z",
     "iopub.status.busy": "2024-10-03T14:16:27.548982Z",
     "iopub.status.idle": "2024-10-03T14:16:27.650759Z",
     "shell.execute_reply": "2024-10-03T14:16:27.649799Z",
     "shell.execute_reply.started": "2024-10-03T14:16:27.549687Z"
    },
    "trusted": true
   },
   "outputs": [
    {
     "name": "stderr",
     "output_type": "stream",
     "text": [
      "/tmp/ipykernel_30/910250004.py:1: FutureWarning: You are using `torch.load` with `weights_only=False` (the current default value), which uses the default pickle module implicitly. It is possible to construct malicious pickle data which will execute arbitrary code during unpickling (See https://github.com/pytorch/pytorch/blob/main/SECURITY.md#untrusted-models for more details). In a future release, the default value for `weights_only` will be flipped to `True`. This limits the functions that could be executed during unpickling. Arbitrary objects will no longer be allowed to be loaded via this mode unless they are explicitly allowlisted by the user via `torch.serialization.add_safe_globals`. We recommend you start setting `weights_only=True` for any use case where you don't have full control of the loaded file. Please open an issue on GitHub for any issues related to this experimental feature.\n",
      "  best_weights = torch.load('/kaggle/working/best_weights.pt')\n"
     ]
    }
   ],
   "source": [
    "best_weights = torch.load('/kaggle/working/best_weights.pt')"
   ]
  },
  {
   "cell_type": "code",
   "execution_count": 34,
   "metadata": {
    "execution": {
     "iopub.execute_input": "2024-10-03T14:16:28.982129Z",
     "iopub.status.busy": "2024-10-03T14:16:28.981422Z",
     "iopub.status.idle": "2024-10-03T14:16:29.280692Z",
     "shell.execute_reply": "2024-10-03T14:16:29.279669Z",
     "shell.execute_reply.started": "2024-10-03T14:16:28.982088Z"
    },
    "trusted": true
   },
   "outputs": [],
   "source": [
    "torch.save(best_weights, 'best_weights.pt')"
   ]
  },
  {
   "cell_type": "markdown",
   "metadata": {},
   "source": [
    "Посчитаем метрики на валидации и на тесте"
   ]
  },
  {
   "cell_type": "code",
   "execution_count": 35,
   "metadata": {
    "execution": {
     "iopub.execute_input": "2024-10-03T14:16:30.267654Z",
     "iopub.status.busy": "2024-10-03T14:16:30.266977Z",
     "iopub.status.idle": "2024-10-03T14:16:30.276908Z",
     "shell.execute_reply": "2024-10-03T14:16:30.275803Z",
     "shell.execute_reply.started": "2024-10-03T14:16:30.267611Z"
    },
    "trusted": true
   },
   "outputs": [
    {
     "data": {
      "text/plain": [
       "<All keys matched successfully>"
      ]
     },
     "execution_count": 35,
     "metadata": {},
     "output_type": "execute_result"
    }
   ],
   "source": [
    "model.load_state_dict(best_weights['model_state_dict'])"
   ]
  },
  {
   "cell_type": "code",
   "execution_count": 36,
   "metadata": {
    "execution": {
     "iopub.execute_input": "2024-10-03T14:16:32.205747Z",
     "iopub.status.busy": "2024-10-03T14:16:32.205042Z",
     "iopub.status.idle": "2024-10-03T14:19:06.588218Z",
     "shell.execute_reply": "2024-10-03T14:19:06.587213Z",
     "shell.execute_reply.started": "2024-10-03T14:16:32.205705Z"
    },
    "trusted": true
   },
   "outputs": [
    {
     "name": "stderr",
     "output_type": "stream",
     "text": [
      "100%|██████████| 161/161 [02:34<00:00,  1.04it/s]\n"
     ]
    }
   ],
   "source": [
    "loss_val, accuracy_val = evaluate_model(model,val_loader,criterion, verbose = True)"
   ]
  },
  {
   "cell_type": "code",
   "execution_count": 37,
   "metadata": {
    "execution": {
     "iopub.execute_input": "2024-10-03T14:19:06.591166Z",
     "iopub.status.busy": "2024-10-03T14:19:06.590474Z",
     "iopub.status.idle": "2024-10-03T14:19:06.597405Z",
     "shell.execute_reply": "2024-10-03T14:19:06.596485Z",
     "shell.execute_reply.started": "2024-10-03T14:19:06.591116Z"
    },
    "trusted": true
   },
   "outputs": [
    {
     "data": {
      "text/plain": [
       "0.9198090227029134"
      ]
     },
     "execution_count": 37,
     "metadata": {},
     "output_type": "execute_result"
    }
   ],
   "source": [
    "accuracy_val"
   ]
  },
  {
   "cell_type": "code",
   "execution_count": 38,
   "metadata": {
    "execution": {
     "iopub.execute_input": "2024-10-03T14:19:06.599073Z",
     "iopub.status.busy": "2024-10-03T14:19:06.598771Z",
     "iopub.status.idle": "2024-10-03T14:57:49.699755Z",
     "shell.execute_reply": "2024-10-03T14:57:49.698884Z",
     "shell.execute_reply.started": "2024-10-03T14:19:06.599041Z"
    },
    "trusted": true
   },
   "outputs": [
    {
     "name": "stderr",
     "output_type": "stream",
     "text": [
      "100%|██████████| 2406/2406 [38:43<00:00,  1.04it/s]\n"
     ]
    }
   ],
   "source": [
    "loss_test, accuracy_test = evaluate_model(model,test_loader,criterion, verbose = True)"
   ]
  },
  {
   "cell_type": "code",
   "execution_count": 39,
   "metadata": {
    "execution": {
     "iopub.execute_input": "2024-10-03T14:57:49.702557Z",
     "iopub.status.busy": "2024-10-03T14:57:49.702040Z",
     "iopub.status.idle": "2024-10-03T14:57:49.708098Z",
     "shell.execute_reply": "2024-10-03T14:57:49.707302Z",
     "shell.execute_reply.started": "2024-10-03T14:57:49.702504Z"
    },
    "trusted": true
   },
   "outputs": [
    {
     "data": {
      "text/plain": [
       "0.9212813500750259"
      ]
     },
     "execution_count": 39,
     "metadata": {},
     "output_type": "execute_result"
    }
   ],
   "source": [
    "accuracy_test\n"
   ]
  },
  {
   "cell_type": "markdown",
   "metadata": {},
   "source": [
    "Таким образом, я смог обучить несложную CNN для задачи бинарной классификации. Ассuracy на test при этом составила >0.9"
   ]
  }
 ],
 "metadata": {
  "kaggle": {
   "accelerator": "gpu",
   "dataSources": [
    {
     "datasetId": 5773554,
     "sourceId": 9489721,
     "sourceType": "datasetVersion"
    },
    {
     "datasetId": 5807144,
     "sourceId": 9534680,
     "sourceType": "datasetVersion"
    },
    {
     "isSourceIdPinned": true,
     "modelId": 130588,
     "modelInstanceId": 106296,
     "sourceId": 126263,
     "sourceType": "modelInstanceVersion"
    }
   ],
   "dockerImageVersionId": 30776,
   "isGpuEnabled": true,
   "isInternetEnabled": true,
   "language": "python",
   "sourceType": "notebook"
  },
  "kernelspec": {
   "display_name": "Python 3",
   "language": "python",
   "name": "python3"
  },
  "language_info": {
   "codemirror_mode": {
    "name": "ipython",
    "version": 3
   },
   "file_extension": ".py",
   "mimetype": "text/x-python",
   "name": "python",
   "nbconvert_exporter": "python",
   "pygments_lexer": "ipython3",
   "version": "3.10.14"
  }
 },
 "nbformat": 4,
 "nbformat_minor": 4
}
